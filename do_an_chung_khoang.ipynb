{
  "cells": [
    {
      "cell_type": "markdown",
      "metadata": {
        "id": "view-in-github",
        "colab_type": "text"
      },
      "source": [
        "<a href=\"https://colab.research.google.com/github/viett887g/do_an_cuoi_ki_mon_toan/blob/main/do_an_chung_khoang.ipynb\" target=\"_parent\"><img src=\"https://colab.research.google.com/assets/colab-badge.svg\" alt=\"Open In Colab\"/></a>"
      ]
    },
    {
      "cell_type": "code",
      "execution_count": null,
      "id": "f08c3829-b2c0-48d3-8c5e-9d8b13fabf4d",
      "metadata": {
        "tags": [],
        "id": "f08c3829-b2c0-48d3-8c5e-9d8b13fabf4d"
      },
      "outputs": [],
      "source": [
        "import numpy as np\n",
        "import os\n",
        "from sklearn import preprocessing\n",
        "from sklearn.model_selection import train_test_split\n",
        "from sklearn.metrics import mean_squared_error, r2_score\n",
        "import pandas as pd"
      ]
    },
    {
      "cell_type": "markdown",
      "id": "7bf14b6b-5826-483f-9b02-2b89bb90b2d3",
      "metadata": {
        "tags": [],
        "id": "7bf14b6b-5826-483f-9b02-2b89bb90b2d3"
      },
      "source": [
        "# 1.Chọn chủ đề 'Dự_ đoán_ giá_ cổ_ phiếu'\n"
      ]
    },
    {
      "cell_type": "markdown",
      "id": "bf5c58dd-7763-4095-9871-c1a35cf2bb7d",
      "metadata": {
        "tags": [],
        "id": "bf5c58dd-7763-4095-9871-c1a35cf2bb7d"
      },
      "source": [
        "**tập dữ liệu này có 12 cột. Các cột bao gồm**\n",
        "\n",
        "1.Date: Ngày của dữ liệu giá cổ phiếu.\n",
        "\n",
        "2.Open: Giá mở cửa của cổ phiếu vào ngày đó.\n",
        "\n",
        "3.High: Giá cao nhất đạt được trong ngày giao dịch.\n",
        "\n",
        "4.Low: Giá thấp nhất đạt được trong ngày giao dịch.\n",
        "\n",
        "5.Close: Giá đóng cửa của cổ phiếu vào ngày đó.\n",
        "\n",
        "6.Volume: Thể tích giao dịch, tức là số lượng cổ phiếu được giao dịch vào ngày đó.\n",
        "\n",
        "7.Dividends: Cổ tức được trả vào ngày đó (nếu có).\n",
        "\n",
        "8.Stock Splits: Thông tin về chia cổ phiếu (nếu có).\n",
        "\n",
        "9.Brand_Name: Tên của thương hiệu hoặc công ty.\n",
        "\n",
        "10.Ticker: Ký hiệu cho cổ phiếu.\n",
        "\n",
        "11.Industry_Tag: Nhãn ngành hoặc ngành mà thương hiệu thuộc về.\n",
        "\n",
        "12.Country: Quốc gia mà thương hiệu có trụ sở chính hoặc hoạt động chính."
      ]
    },
    {
      "cell_type": "code",
      "execution_count": null,
      "id": "82e6d597-d0d4-4e82-bc82-48c6b3d6a8b0",
      "metadata": {
        "tags": [],
        "id": "82e6d597-d0d4-4e82-bc82-48c6b3d6a8b0",
        "outputId": "e7167cbd-9b0e-4361-c7c0-fe27b738e9f9"
      },
      "outputs": [
        {
          "data": {
            "text/html": [
              "<div>\n",
              "<style scoped>\n",
              "    .dataframe tbody tr th:only-of-type {\n",
              "        vertical-align: middle;\n",
              "    }\n",
              "\n",
              "    .dataframe tbody tr th {\n",
              "        vertical-align: top;\n",
              "    }\n",
              "\n",
              "    .dataframe thead th {\n",
              "        text-align: right;\n",
              "    }\n",
              "</style>\n",
              "<table border=\"1\" class=\"dataframe\">\n",
              "  <thead>\n",
              "    <tr style=\"text-align: right;\">\n",
              "      <th></th>\n",
              "      <th>Date</th>\n",
              "      <th>Open</th>\n",
              "      <th>High</th>\n",
              "      <th>Low</th>\n",
              "      <th>Close</th>\n",
              "      <th>Volume</th>\n",
              "      <th>Dividends</th>\n",
              "      <th>Stock Splits</th>\n",
              "      <th>Brand_Name</th>\n",
              "      <th>Ticker</th>\n",
              "      <th>Industry_Tag</th>\n",
              "      <th>Country</th>\n",
              "    </tr>\n",
              "  </thead>\n",
              "  <tbody>\n",
              "    <tr>\n",
              "      <th>0</th>\n",
              "      <td>2023-09-20 00:00:00-04:00</td>\n",
              "      <td>4.840000</td>\n",
              "      <td>4.910000</td>\n",
              "      <td>4.630000</td>\n",
              "      <td>4.670000</td>\n",
              "      <td>7441900.0</td>\n",
              "      <td>0.0</td>\n",
              "      <td>0.0</td>\n",
              "      <td>peloton</td>\n",
              "      <td>PTON</td>\n",
              "      <td>fitness</td>\n",
              "      <td>usa</td>\n",
              "    </tr>\n",
              "    <tr>\n",
              "      <th>1</th>\n",
              "      <td>2023-09-20 00:00:00-04:00</td>\n",
              "      <td>397.049988</td>\n",
              "      <td>397.989990</td>\n",
              "      <td>386.119995</td>\n",
              "      <td>386.299988</td>\n",
              "      <td>3866600.0</td>\n",
              "      <td>0.0</td>\n",
              "      <td>0.0</td>\n",
              "      <td>netflix</td>\n",
              "      <td>NFLX</td>\n",
              "      <td>entertainment</td>\n",
              "      <td>usa</td>\n",
              "    </tr>\n",
              "    <tr>\n",
              "      <th>2</th>\n",
              "      <td>2023-09-20 00:00:00-04:00</td>\n",
              "      <td>564.349976</td>\n",
              "      <td>569.219971</td>\n",
              "      <td>562.659973</td>\n",
              "      <td>563.830017</td>\n",
              "      <td>1311500.0</td>\n",
              "      <td>0.0</td>\n",
              "      <td>0.0</td>\n",
              "      <td>costco</td>\n",
              "      <td>COST</td>\n",
              "      <td>retail</td>\n",
              "      <td>usa</td>\n",
              "    </tr>\n",
              "    <tr>\n",
              "      <th>3</th>\n",
              "      <td>2023-09-20 00:00:00-04:00</td>\n",
              "      <td>138.550003</td>\n",
              "      <td>139.369995</td>\n",
              "      <td>135.199997</td>\n",
              "      <td>135.289993</td>\n",
              "      <td>46263700.0</td>\n",
              "      <td>0.0</td>\n",
              "      <td>0.0</td>\n",
              "      <td>amazon</td>\n",
              "      <td>AMZN</td>\n",
              "      <td>e-commerce</td>\n",
              "      <td>usa</td>\n",
              "    </tr>\n",
              "    <tr>\n",
              "      <th>4</th>\n",
              "      <td>2023-09-20 00:00:00-04:00</td>\n",
              "      <td>179.259995</td>\n",
              "      <td>179.699997</td>\n",
              "      <td>175.399994</td>\n",
              "      <td>175.490005</td>\n",
              "      <td>58436200.0</td>\n",
              "      <td>0.0</td>\n",
              "      <td>0.0</td>\n",
              "      <td>apple</td>\n",
              "      <td>AAPL</td>\n",
              "      <td>technology</td>\n",
              "      <td>usa</td>\n",
              "    </tr>\n",
              "  </tbody>\n",
              "</table>\n",
              "</div>"
            ],
            "text/plain": [
              "                        Date        Open        High         Low       Close  \\\n",
              "0  2023-09-20 00:00:00-04:00    4.840000    4.910000    4.630000    4.670000   \n",
              "1  2023-09-20 00:00:00-04:00  397.049988  397.989990  386.119995  386.299988   \n",
              "2  2023-09-20 00:00:00-04:00  564.349976  569.219971  562.659973  563.830017   \n",
              "3  2023-09-20 00:00:00-04:00  138.550003  139.369995  135.199997  135.289993   \n",
              "4  2023-09-20 00:00:00-04:00  179.259995  179.699997  175.399994  175.490005   \n",
              "\n",
              "       Volume  Dividends  Stock Splits Brand_Name Ticker   Industry_Tag  \\\n",
              "0   7441900.0        0.0           0.0    peloton   PTON        fitness   \n",
              "1   3866600.0        0.0           0.0    netflix   NFLX  entertainment   \n",
              "2   1311500.0        0.0           0.0     costco   COST         retail   \n",
              "3  46263700.0        0.0           0.0     amazon   AMZN     e-commerce   \n",
              "4  58436200.0        0.0           0.0      apple   AAPL     technology   \n",
              "\n",
              "  Country  \n",
              "0     usa  \n",
              "1     usa  \n",
              "2     usa  \n",
              "3     usa  \n",
              "4     usa  "
            ]
          },
          "execution_count": 117,
          "metadata": {},
          "output_type": "execute_result"
        }
      ],
      "source": [
        "data=pd.read_csv('Downloads/New folder (2)/World-Stock-Prices-Dataset.csv')\n",
        "data.head(5)"
      ]
    },
    {
      "cell_type": "code",
      "execution_count": null,
      "id": "fb7437b1-17c7-49a4-bd28-187ea3f671fc",
      "metadata": {
        "tags": [],
        "id": "fb7437b1-17c7-49a4-bd28-187ea3f671fc",
        "outputId": "a7dfcd29-12a7-43fe-bb1b-6592c0be919c"
      },
      "outputs": [
        {
          "name": "stdout",
          "output_type": "stream",
          "text": [
            "chiều dài của tập dữ liệu 279753\n",
            "kích thước của màng dữ liệu (279753, 12)\n"
          ]
        }
      ],
      "source": [
        "print('chiều dài của tập dữ liệu',len(data))\n",
        "print('kích thước của màng dữ liệu',data.shape)"
      ]
    },
    {
      "cell_type": "markdown",
      "id": "113a5010-e19e-445b-a4f4-25d185447592",
      "metadata": {
        "id": "113a5010-e19e-445b-a4f4-25d185447592"
      },
      "source": [
        "**Vector X (biến độc lập) bao gồm các cột sau:**\n",
        "\n",
        "Date: Ngày của dữ liệu giá cổ phiếu.\n",
        "\n",
        "Open: Giá mở cửa của cổ phiếu vào ngày đó.\n",
        "\n",
        "High: Giá cao nhất đạt được trong ngày giao dịch.\n",
        "\n",
        "Low: Giá thấp nhất đạt được trong ngày giao dịch.\n",
        "\n",
        "Volume: Thể tích giao dịch, tức là số lượng cổ phiếu được giao dịch vào ngày đó.\n",
        "\n",
        "Dividends: Cổ tức được trả vào ngày đó (nếu có).\n",
        "\n",
        "Stock Splits: Thông tin về chia cổ phiếu (nếu có).\n",
        "\n",
        "**Vector y (biến phụ thuộc)là:**\n",
        "\n",
        "Close: Giá đóng cửa của cổ phiếu vào ngày đó."
      ]
    },
    {
      "cell_type": "code",
      "execution_count": null,
      "id": "8c1ae488-444f-4b44-88cb-85aa468d9cef",
      "metadata": {
        "tags": [],
        "id": "8c1ae488-444f-4b44-88cb-85aa468d9cef"
      },
      "outputs": [],
      "source": [
        "def readdata(file):\n",
        "    data = pd.read_csv(file)\n",
        "    del data['Date']\n",
        "    data = data.iloc[:, :-5]\n",
        "    data = np.array(data)\n",
        "    return data\n",
        "\n",
        "# Hàm chuẩn hóa dữ liệu và tạo training set và test set\n",
        "def create_data(data):\n",
        "    data = preprocessing.MinMaxScaler().fit_transform(data)\n",
        "    X1=data[:,:3]\n",
        "    X2=data[:,4]\n",
        "    X = np.column_stack((X1, X2))\n",
        "    y=data[:,3]\n",
        "    X_train, X_test, y_train, y_test = train_test_split(X, y, test_size=0.2, random_state=42)\n",
        "    return X_train, X_test, y_train, y_test\n",
        "def linear_loss(X, y, w):\n",
        "      m = X.shape[0]\n",
        "      y_pred = np.dot(X, w)\n",
        "      J = 1/(2*m) * np.sum((y_pred - y)**2)\n",
        "      return J"
      ]
    },
    {
      "cell_type": "markdown",
      "id": "579cf88c-c031-49d1-8761-f17ac65725a4",
      "metadata": {
        "id": "579cf88c-c031-49d1-8761-f17ac65725a4"
      },
      "source": [
        "# II. Chọn 2 phương pháp Gradient Descent (GD), Momentum Based GD tối ưu để tối ưu hoá loss function"
      ]
    },
    {
      "cell_type": "markdown",
      "id": "2709c616-9ac0-48c0-8822-c696b022aa8d",
      "metadata": {
        "id": "2709c616-9ac0-48c0-8822-c696b022aa8d"
      },
      "source": [
        "## 2.1 Gradient Descent (GD)"
      ]
    },
    {
      "cell_type": "code",
      "execution_count": null,
      "id": "74537a53-5a98-4eea-9083-2adab22625f8",
      "metadata": {
        "tags": [],
        "id": "74537a53-5a98-4eea-9083-2adab22625f8"
      },
      "outputs": [],
      "source": [
        "def gradient_descent(X, y, w, learning_rate, iterations):\n",
        "    m = X.shape[0]\n",
        "    for i in range(iterations):\n",
        "        h = np.dot(X, w)\n",
        "        loss = h - y\n",
        "        gradient = np.dot(X.T, loss) / m\n",
        "        w -= learning_rate * gradient\n",
        "    return w"
      ]
    },
    {
      "cell_type": "markdown",
      "id": "657c6731-b3d7-47d6-bf12-21935f921eab",
      "metadata": {
        "id": "657c6731-b3d7-47d6-bf12-21935f921eab"
      },
      "source": [
        "## 2.2 Momentum Based GD"
      ]
    },
    {
      "cell_type": "code",
      "execution_count": null,
      "id": "a369258c-4c62-4d16-a0af-a364412b5363",
      "metadata": {
        "tags": [],
        "id": "a369258c-4c62-4d16-a0af-a364412b5363"
      },
      "outputs": [],
      "source": [
        "def momentum_gradient_descent(X, y, w, learning_rate, gamma, iterations):\n",
        "    m = X.shape[0]\n",
        "    v = np.zeros_like(w)  # Khởi tạo véc-tơ momentum ban đầu là 0\n",
        "\n",
        "    for i in range(iterations):\n",
        "        h = np.dot(X, w)\n",
        "        loss = h - y\n",
        "        gradient = np.dot(X.T, loss) / m\n",
        "\n",
        "        v = gamma * v + learning_rate * gradient  # Cập nhật momentum theo gradient hiện tại và momentum trước đó\n",
        "        w -= v  # Cập nhật trọng số dựa trên momentum\n",
        "\n",
        "    return w"
      ]
    },
    {
      "cell_type": "markdown",
      "id": "aed6c5e8-3b22-4c5b-bb32-f8778bc77902",
      "metadata": {
        "id": "aed6c5e8-3b22-4c5b-bb32-f8778bc77902"
      },
      "source": [
        "# Hiệu suất mô hình"
      ]
    },
    {
      "cell_type": "code",
      "execution_count": null,
      "id": "e66327d2-faf8-4b5a-bbc2-bb0ac0c29bd2",
      "metadata": {
        "tags": [],
        "id": "e66327d2-faf8-4b5a-bbc2-bb0ac0c29bd2"
      },
      "outputs": [],
      "source": [
        "\n",
        "def evaluate_performance(X_test, y_test, w):\n",
        "    # Tính toán dự đoán trên tập test\n",
        "    y_pred = np.dot(X_test, w)\n",
        "\n",
        "    # Tính toán Mean Squared Error (MSE)\n",
        "    mse = mean_squared_error(y_test, y_pred)\n",
        "\n",
        "    # Tính toán Rmse\n",
        "    rmse = np.sqrt(mse)\n",
        "\n",
        "\n",
        "    # Trả về kết quả hiệu suất của mô hình\n",
        "    return mse, rmse"
      ]
    },
    {
      "cell_type": "code",
      "execution_count": null,
      "id": "85e71789-6a12-4281-abcd-61d90c0412ef",
      "metadata": {
        "tags": [],
        "id": "85e71789-6a12-4281-abcd-61d90c0412ef",
        "outputId": "68afc892-08ca-40c9-f412-bc723e6f83ff"
      },
      "outputs": [
        {
          "name": "stdout",
          "output_type": "stream",
          "text": [
            "Giá trị loss tối ưu của Gradient Descents : 0.0015462918411710091\n",
            "Mean Squared Error của Gradient Descents (MSE): 0.0029751312974874767\n",
            "Root Mean Squared Error của Gradient Descents: 0.05454476416199337\n",
            "\n",
            " \n",
            "\n",
            "Giá trị loss tối ưu của momentum_based_gradient_descent : 0.00015039242650779117\n",
            "Mean Squared Error (MSE) của momentum_based_gradient_descent: 0.0002886564626292151\n",
            "Root Mean Squared Error của momentum_based_gradient_descent: 0.016989892955201782\n"
          ]
        }
      ],
      "source": [
        "\n",
        "def main():\n",
        "    file = ('Downloads/New folder (2)/World-Stock-Prices-Dataset.csv')  # Thay đổi thành tên tệp dữ liệu thực tế của bạn\n",
        "    data = readdata(file)\n",
        "    X_train, X_test, y_train, y_test = create_data(data)\n",
        "\n",
        "    num_features = X_train.shape[1]\n",
        "    w = np.zeros(num_features)  # Khởi tạo trọng số ban đầu\n",
        "\n",
        "    learning_rate = 0.01\n",
        "    num_iterations = 1000\n",
        "    gamma = 0.9\n",
        "\n",
        "    # Sử dụng Gradient Descent\n",
        "    w_optimal_gd = gradient_descent(X_train, y_train, w, learning_rate, num_iterations)\n",
        "    loss_gd = linear_loss(X_train, y_train, w_optimal_gd)\n",
        "\n",
        "    print(\"Giá trị loss tối ưu của Gradient Descents :\", loss_gd)\n",
        "    mse, rmse = evaluate_performance(X_test, y_test, w_optimal_gd)\n",
        "\n",
        "    print(\"Mean Squared Error của Gradient Descents (MSE):\", mse)\n",
        "    print('Root Mean Squared Error của Gradient Descents:',rmse)\n",
        "    print('\\n','\\n')\n",
        "\n",
        "    # Sử dụng Momentum Based Gradient Descent\n",
        "    w_optimal_momentum = momentum_gradient_descent(X_train, y_train, w, learning_rate, gamma, num_iterations)\n",
        "    loss_momentum = linear_loss(X_train, y_train, w_optimal_momentum)\n",
        "    print(\"Giá trị loss tối ưu của momentum_based_gradient_descent :\", loss_momentum)\n",
        "    mse, rmse = evaluate_performance(X_test, y_test, w_optimal_momentum)\n",
        "\n",
        "    print(\"Mean Squared Error (MSE) của momentum_based_gradient_descent:\", mse)\n",
        "    print('Root Mean Squared Error của momentum_based_gradient_descent:',rmse)\n",
        "\n",
        "\n",
        "if __name__ == \"__main__\":\n",
        "    main()"
      ]
    },
    {
      "cell_type": "markdown",
      "id": "b53f0640-4534-47bb-b1cd-35a3670f5c9d",
      "metadata": {
        "id": "b53f0640-4534-47bb-b1cd-35a3670f5c9d"
      },
      "source": [
        "# Kết luận\n",
        "Dựa trên các giá trị được cung cấp, có thể nhận thấy rằng phương pháp \"momentum_based_gradient_descent\" có hiệu suất tốt hơn so với \"Gradient Descent\" thông thường.\n",
        "\n",
        "Với giá trị loss tối ưu thấp hơn (0.00015039242650779117 so với 0.0015462918411710091), cũng như Mean Squared Error (MSE) và Root Mean Squared Error thấp hơn, \"momentum_based_gradient_descent\" đã đạt được kết quả tốt hơn trong quá trình học máy."
      ]
    }
  ],
  "metadata": {
    "kernelspec": {
      "display_name": "Python 3 (ipykernel)",
      "language": "python",
      "name": "python3"
    },
    "language_info": {
      "codemirror_mode": {
        "name": "ipython",
        "version": 3
      },
      "file_extension": ".py",
      "mimetype": "text/x-python",
      "name": "python",
      "nbconvert_exporter": "python",
      "pygments_lexer": "ipython3",
      "version": "3.11.5"
    },
    "colab": {
      "provenance": [],
      "include_colab_link": true
    }
  },
  "nbformat": 4,
  "nbformat_minor": 5
}